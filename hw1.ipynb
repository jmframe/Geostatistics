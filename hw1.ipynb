{
 "cells": [
  {
   "cell_type": "code",
   "execution_count": 1,
   "metadata": {},
   "outputs": [],
   "source": [
    "# The paper that describes this data set is on EarthArXiv:\n",
    "#   https://eartharxiv.org/2em53/"
   ]
  },
  {
   "cell_type": "code",
   "execution_count": 2,
   "metadata": {},
   "outputs": [],
   "source": [
    "# Import libraries\n",
    "import numpy as np\n",
    "import pandas as pd\n",
    "import matplotlib.pyplot as plt\n",
    "import scipy\n",
    "from scipy.stats import skew\n",
    "from scipy.stats import kurtosis\n",
    "import scipy.stats as stats\n",
    "import math"
   ]
  },
  {
   "cell_type": "code",
   "execution_count": 3,
   "metadata": {},
   "outputs": [],
   "source": [
    "# locate the data\n",
    "dataDir = '/Users/jf/Box Sync/class/geostat/data/'\n",
    "dataName = 'camels_all_coding_workshop.csv'\n",
    "dataLoc = dataDir + dataName\n",
    "# load the data with pandas\n",
    "pd_data = pd.read_csv(dataLoc, sep=',', index_col='gauge_id')\n",
    "# load the data with numpy\n",
    "np_data = np.genfromtxt(dataLoc, dtype=None, delimiter=',', skip_header=1)\n",
    "np_data=np.array(pd_data)"
   ]
  },
  {
   "cell_type": "code",
   "execution_count": 4,
   "metadata": {},
   "outputs": [
    {
     "name": "stdout",
     "output_type": "stream",
     "text": [
      "nan\n",
      "nan\n",
      "nan\n",
      "nan\n",
      "nan\n",
      "nan\n",
      "nan\n",
      "nan\n",
      "nan\n",
      "nan\n",
      "nan\n",
      "nan\n",
      "nan\n",
      "nan\n",
      "nan\n",
      "nan\n",
      "nan\n",
      "nan\n",
      "nan\n",
      "nan\n",
      "nan\n",
      "nan\n",
      "nan\n",
      "nan\n",
      "nan\n",
      "nan\n",
      "nan\n",
      "nan\n",
      "nan\n",
      "nan\n",
      "nan\n",
      "nan\n",
      "nan\n",
      "nan\n",
      "nan\n",
      "nan\n",
      "nan\n",
      "nan\n",
      "nan\n",
      "nan\n",
      "nan\n",
      "nan\n",
      "nan\n",
      "nan\n",
      "nan\n",
      "nan\n",
      "nan\n",
      "nan\n",
      "nan\n",
      "nan\n",
      "nan\n",
      "nan\n",
      "nan\n",
      "nan\n",
      "nan\n",
      "nan\n",
      "nan\n",
      "nan\n",
      "nan\n",
      "nan\n",
      "nan\n",
      "nan\n",
      "nan\n",
      "nan\n",
      "nan\n",
      "nan\n",
      "nan\n",
      "nan\n",
      "nan\n",
      "nan\n",
      "nan\n",
      "nan\n",
      "nan\n",
      "nan\n",
      "nan\n",
      "nan\n",
      "nan\n",
      "nan\n",
      "nan\n",
      "nan\n",
      "nan\n",
      "nan\n",
      "nan\n",
      "nan\n",
      "nan\n",
      "nan\n",
      "nan\n",
      "nan\n",
      "nan\n",
      "nan\n",
      "nan\n",
      "nan\n",
      "nan\n",
      "nan\n",
      "nan\n",
      "nan\n",
      "nan\n",
      "nan\n",
      "nan\n",
      "nan\n",
      "nan\n",
      "nan\n",
      "nan\n",
      "nan\n",
      "nan\n",
      "nan\n",
      "nan\n",
      "nan\n",
      "nan\n",
      "nan\n",
      "nan\n",
      "-0.022025675066161834\n",
      "-0.13898478149203397\n",
      "-0.04082767789358759\n",
      "nan\n",
      "0.0786047490664668\n",
      "0.15977161598431072\n",
      "-0.16390614231791234\n",
      "-0.2168831387140792\n",
      "0.39020982740707627\n",
      "-0.1646018793739359\n",
      "-0.31985453473445447\n",
      "0.006655842115219562\n",
      "nan\n",
      "-0.33853376268812196\n",
      "-0.18009521335049428\n",
      "0.2653668086054307\n",
      "0.2860600392042981\n",
      "-0.07288996575007131\n",
      "0.3253164286757141\n",
      "-0.04372685964291994\n",
      "-0.04088947820022158\n",
      "-0.2602237158672708\n",
      "-0.01395143517351999\n",
      "-0.0674692960883134\n",
      "0.2926904852904078\n",
      "-0.1021893286708789\n",
      "-0.38018689304290687\n",
      "0.08189919479788983\n",
      "0.07280528872888901\n",
      "0.03287595366093726\n",
      "0.4035022313585398\n",
      "0.18848402870171224\n",
      "0.16423565192606682\n",
      "-0.022785961978790133\n",
      "0.06276700050455862\n",
      "nan\n",
      "nan\n",
      "nan\n",
      "nan\n",
      "nan\n",
      "nan\n",
      "nan\n",
      "nan\n",
      "nan\n",
      "nan\n",
      "nan\n",
      "nan\n",
      "nan\n",
      "nan\n",
      "nan\n",
      "nan\n",
      "nan\n",
      "nan\n",
      "nan\n",
      "nan\n",
      "nan\n",
      "nan\n",
      "nan\n",
      "nan\n",
      "nan\n",
      "nan\n",
      "nan\n",
      "nan\n",
      "nan\n",
      "nan\n",
      "nan\n",
      "nan\n",
      "nan\n",
      "nan\n",
      "nan\n",
      "nan\n",
      "nan\n",
      "nan\n",
      "nan\n",
      "nan\n",
      "nan\n",
      "nan\n",
      "nan\n",
      "nan\n",
      "nan\n",
      "nan\n",
      "nan\n",
      "nan\n",
      "nan\n",
      "nan\n",
      "nan\n",
      "nan\n",
      "nan\n",
      "nan\n",
      "nan\n",
      "nan\n",
      "nan\n",
      "nan\n",
      "nan\n",
      "nan\n",
      "nan\n",
      "nan\n",
      "nan\n",
      "nan\n",
      "nan\n",
      "nan\n",
      "nan\n",
      "nan\n",
      "nan\n",
      "nan\n",
      "nan\n",
      "nan\n",
      "nan\n",
      "nan\n",
      "nan\n",
      "nan\n",
      "nan\n",
      "nan\n",
      "nan\n",
      "nan\n",
      "nan\n",
      "nan\n",
      "nan\n",
      "nan\n",
      "nan\n",
      "nan\n",
      "nan\n",
      "nan\n",
      "nan\n",
      "nan\n",
      "nan\n",
      "nan\n",
      "nan\n",
      "nan\n",
      "nan\n",
      "nan\n",
      "nan\n",
      "nan\n",
      "nan\n",
      "nan\n",
      "nan\n",
      "nan\n",
      "nan\n",
      "nan\n",
      "nan\n",
      "nan\n",
      "nan\n",
      "nan\n",
      "nan\n",
      "nan\n",
      "nan\n",
      "nan\n",
      "nan\n",
      "nan\n",
      "nan\n",
      "nan\n",
      "nan\n",
      "nan\n",
      "nan\n",
      "nan\n",
      "nan\n",
      "nan\n",
      "nan\n",
      "nan\n",
      "nan\n",
      "nan\n",
      "nan\n",
      "nan\n",
      "nan\n",
      "nan\n",
      "nan\n",
      "nan\n",
      "nan\n",
      "nan\n",
      "nan\n",
      "nan\n",
      "nan\n",
      "nan\n",
      "nan\n",
      "nan\n",
      "nan\n",
      "nan\n",
      "nan\n",
      "nan\n",
      "nan\n",
      "nan\n",
      "nan\n",
      "nan\n",
      "nan\n",
      "nan\n",
      "nan\n",
      "nan\n",
      "nan\n",
      "nan\n",
      "nan\n",
      "nan\n",
      "nan\n",
      "nan\n",
      "nan\n",
      "nan\n",
      "nan\n",
      "nan\n",
      "nan\n",
      "nan\n",
      "nan\n",
      "nan\n",
      "nan\n",
      "nan\n",
      "nan\n",
      "nan\n",
      "nan\n",
      "nan\n",
      "nan\n",
      "nan\n",
      "nan\n",
      "nan\n",
      "nan\n",
      "nan\n",
      "nan\n",
      "nan\n",
      "nan\n",
      "nan\n",
      "nan\n",
      "nan\n",
      "nan\n",
      "nan\n",
      "nan\n",
      "nan\n",
      "nan\n",
      "nan\n",
      "nan\n",
      "nan\n",
      "nan\n",
      "nan\n",
      "nan\n",
      "nan\n",
      "nan\n",
      "nan\n",
      "nan\n",
      "nan\n",
      "nan\n",
      "nan\n",
      "nan\n",
      "nan\n",
      "nan\n",
      "nan\n",
      "nan\n",
      "nan\n",
      "nan\n",
      "nan\n",
      "nan\n",
      "nan\n",
      "nan\n",
      "nan\n",
      "nan\n",
      "nan\n",
      "nan\n",
      "nan\n",
      "nan\n",
      "nan\n",
      "nan\n",
      "nan\n",
      "nan\n",
      "nan\n",
      "nan\n",
      "nan\n",
      "nan\n",
      "nan\n",
      "nan\n",
      "nan\n",
      "nan\n",
      "nan\n",
      "nan\n",
      "nan\n",
      "nan\n",
      "nan\n",
      "nan\n",
      "nan\n",
      "nan\n",
      "nan\n",
      "nan\n",
      "nan\n",
      "nan\n",
      "nan\n",
      "nan\n",
      "nan\n",
      "nan\n",
      "nan\n",
      "nan\n",
      "nan\n",
      "nan\n",
      "nan\n",
      "nan\n",
      "nan\n",
      "nan\n",
      "nan\n",
      "nan\n",
      "nan\n",
      "nan\n",
      "nan\n",
      "nan\n",
      "nan\n",
      "nan\n",
      "nan\n",
      "nan\n",
      "nan\n",
      "nan\n",
      "nan\n",
      "nan\n",
      "nan\n",
      "nan\n",
      "nan\n",
      "nan\n",
      "nan\n",
      "nan\n",
      "nan\n",
      "nan\n",
      "nan\n",
      "nan\n",
      "nan\n",
      "nan\n",
      "nan\n",
      "nan\n",
      "nan\n",
      "nan\n",
      "nan\n",
      "nan\n",
      "nan\n",
      "nan\n",
      "nan\n",
      "nan\n",
      "nan\n",
      "nan\n",
      "nan\n",
      "nan\n",
      "nan\n",
      "nan\n",
      "nan\n"
     ]
    },
    {
     "name": "stderr",
     "output_type": "stream",
     "text": [
      "/anaconda3/lib/python3.7/site-packages/numpy/lib/function_base.py:2400: RuntimeWarning: invalid value encountered in true_divide\n",
      "  c /= stddev[:, None]\n",
      "/anaconda3/lib/python3.7/site-packages/numpy/lib/function_base.py:2401: RuntimeWarning: invalid value encountered in true_divide\n",
      "  c /= stddev[None, :]\n"
     ]
    }
   ],
   "source": [
    "for i in range(0,12):\n",
    "    for j in range(13,50):\n",
    "        cc = np.corrcoef(np_data[:,i], np_data[:,j])[0,1]\n",
    "        print(cc)"
   ]
  },
  {
   "cell_type": "code",
   "execution_count": 5,
   "metadata": {},
   "outputs": [
    {
     "data": {
      "text/html": [
       "<div>\n",
       "<style scoped>\n",
       "    .dataframe tbody tr th:only-of-type {\n",
       "        vertical-align: middle;\n",
       "    }\n",
       "\n",
       "    .dataframe tbody tr th {\n",
       "        vertical-align: top;\n",
       "    }\n",
       "\n",
       "    .dataframe thead th {\n",
       "        text-align: right;\n",
       "    }\n",
       "</style>\n",
       "<table border=\"1\" class=\"dataframe\">\n",
       "  <thead>\n",
       "    <tr style=\"text-align: right;\">\n",
       "      <th></th>\n",
       "      <th>q_mean</th>\n",
       "      <th>runoff_ratio</th>\n",
       "      <th>slope_fdc</th>\n",
       "      <th>baseflow_index</th>\n",
       "      <th>stream_elas</th>\n",
       "      <th>q5</th>\n",
       "      <th>q95</th>\n",
       "      <th>high_q_freq</th>\n",
       "      <th>high_q_dur</th>\n",
       "      <th>low_q_freq</th>\n",
       "      <th>...</th>\n",
       "      <th>water_frac</th>\n",
       "      <th>organic_frac</th>\n",
       "      <th>other_frac</th>\n",
       "      <th>frac_forest</th>\n",
       "      <th>lai_max</th>\n",
       "      <th>gvf_max</th>\n",
       "      <th>dom_land_cover_frac</th>\n",
       "      <th>dom_land_cover</th>\n",
       "      <th>root_depth_50</th>\n",
       "      <th>root_depth_99</th>\n",
       "    </tr>\n",
       "    <tr>\n",
       "      <th>gauge_id</th>\n",
       "      <th></th>\n",
       "      <th></th>\n",
       "      <th></th>\n",
       "      <th></th>\n",
       "      <th></th>\n",
       "      <th></th>\n",
       "      <th></th>\n",
       "      <th></th>\n",
       "      <th></th>\n",
       "      <th></th>\n",
       "      <th></th>\n",
       "      <th></th>\n",
       "      <th></th>\n",
       "      <th></th>\n",
       "      <th></th>\n",
       "      <th></th>\n",
       "      <th></th>\n",
       "      <th></th>\n",
       "      <th></th>\n",
       "      <th></th>\n",
       "      <th></th>\n",
       "    </tr>\n",
       "  </thead>\n",
       "  <tbody>\n",
       "    <tr>\n",
       "      <th>1013500</th>\n",
       "      <td>1.699155</td>\n",
       "      <td>0.543437</td>\n",
       "      <td>1.528219</td>\n",
       "      <td>0.585226</td>\n",
       "      <td>1.845324</td>\n",
       "      <td>0.241106</td>\n",
       "      <td>6.373021</td>\n",
       "      <td>6.10</td>\n",
       "      <td>8.714286</td>\n",
       "      <td>41.35</td>\n",
       "      <td>...</td>\n",
       "      <td>5.376698</td>\n",
       "      <td>0.408717</td>\n",
       "      <td>0.000000</td>\n",
       "      <td>0.9063</td>\n",
       "      <td>4.167304</td>\n",
       "      <td>0.804567</td>\n",
       "      <td>0.883452</td>\n",
       "      <td>1</td>\n",
       "      <td>NaN</td>\n",
       "      <td>NaN</td>\n",
       "    </tr>\n",
       "    <tr>\n",
       "      <th>1022500</th>\n",
       "      <td>2.173062</td>\n",
       "      <td>0.602269</td>\n",
       "      <td>1.776280</td>\n",
       "      <td>0.554478</td>\n",
       "      <td>1.702782</td>\n",
       "      <td>0.204734</td>\n",
       "      <td>7.123049</td>\n",
       "      <td>3.90</td>\n",
       "      <td>2.294118</td>\n",
       "      <td>65.15</td>\n",
       "      <td>...</td>\n",
       "      <td>1.226913</td>\n",
       "      <td>0.000000</td>\n",
       "      <td>0.358472</td>\n",
       "      <td>0.9232</td>\n",
       "      <td>4.871392</td>\n",
       "      <td>0.863936</td>\n",
       "      <td>0.820493</td>\n",
       "      <td>1</td>\n",
       "      <td>0.237435</td>\n",
       "      <td>2.238444</td>\n",
       "    </tr>\n",
       "    <tr>\n",
       "      <th>1030500</th>\n",
       "      <td>1.820108</td>\n",
       "      <td>0.555859</td>\n",
       "      <td>1.871110</td>\n",
       "      <td>0.508441</td>\n",
       "      <td>1.377505</td>\n",
       "      <td>0.107149</td>\n",
       "      <td>6.854887</td>\n",
       "      <td>12.25</td>\n",
       "      <td>7.205882</td>\n",
       "      <td>89.25</td>\n",
       "      <td>...</td>\n",
       "      <td>1.634345</td>\n",
       "      <td>1.330278</td>\n",
       "      <td>0.022016</td>\n",
       "      <td>0.8782</td>\n",
       "      <td>4.685200</td>\n",
       "      <td>0.858502</td>\n",
       "      <td>0.975258</td>\n",
       "      <td>1</td>\n",
       "      <td>NaN</td>\n",
       "      <td>NaN</td>\n",
       "    </tr>\n",
       "    <tr>\n",
       "      <th>1031500</th>\n",
       "      <td>2.030242</td>\n",
       "      <td>0.576289</td>\n",
       "      <td>1.494019</td>\n",
       "      <td>0.445091</td>\n",
       "      <td>1.648693</td>\n",
       "      <td>0.111345</td>\n",
       "      <td>8.010503</td>\n",
       "      <td>18.90</td>\n",
       "      <td>3.286957</td>\n",
       "      <td>94.80</td>\n",
       "      <td>...</td>\n",
       "      <td>0.674594</td>\n",
       "      <td>0.000000</td>\n",
       "      <td>0.000000</td>\n",
       "      <td>0.9548</td>\n",
       "      <td>4.903259</td>\n",
       "      <td>0.870668</td>\n",
       "      <td>1.000000</td>\n",
       "      <td>1</td>\n",
       "      <td>0.250000</td>\n",
       "      <td>2.400000</td>\n",
       "    </tr>\n",
       "    <tr>\n",
       "      <th>1047000</th>\n",
       "      <td>2.182870</td>\n",
       "      <td>0.656868</td>\n",
       "      <td>1.415939</td>\n",
       "      <td>0.473465</td>\n",
       "      <td>1.510238</td>\n",
       "      <td>0.196458</td>\n",
       "      <td>8.095148</td>\n",
       "      <td>14.95</td>\n",
       "      <td>2.577586</td>\n",
       "      <td>71.55</td>\n",
       "      <td>...</td>\n",
       "      <td>0.000000</td>\n",
       "      <td>0.000000</td>\n",
       "      <td>0.147867</td>\n",
       "      <td>0.9906</td>\n",
       "      <td>5.086811</td>\n",
       "      <td>0.891383</td>\n",
       "      <td>0.850450</td>\n",
       "      <td>1</td>\n",
       "      <td>0.241027</td>\n",
       "      <td>2.340180</td>\n",
       "    </tr>\n",
       "    <tr>\n",
       "      <th>1052500</th>\n",
       "      <td>2.405105</td>\n",
       "      <td>0.644652</td>\n",
       "      <td>1.301062</td>\n",
       "      <td>0.459700</td>\n",
       "      <td>1.025555</td>\n",
       "      <td>0.305965</td>\n",
       "      <td>8.669019</td>\n",
       "      <td>14.10</td>\n",
       "      <td>2.517857</td>\n",
       "      <td>58.90</td>\n",
       "      <td>...</td>\n",
       "      <td>0.000000</td>\n",
       "      <td>0.000000</td>\n",
       "      <td>5.675527</td>\n",
       "      <td>1.0000</td>\n",
       "      <td>4.800830</td>\n",
       "      <td>0.880034</td>\n",
       "      <td>0.593588</td>\n",
       "      <td>1</td>\n",
       "      <td>0.225615</td>\n",
       "      <td>2.237435</td>\n",
       "    </tr>\n",
       "    <tr>\n",
       "      <th>1054200</th>\n",
       "      <td>2.731742</td>\n",
       "      <td>0.671663</td>\n",
       "      <td>1.319645</td>\n",
       "      <td>0.437050</td>\n",
       "      <td>1.357808</td>\n",
       "      <td>0.256851</td>\n",
       "      <td>10.095605</td>\n",
       "      <td>16.05</td>\n",
       "      <td>1.888235</td>\n",
       "      <td>82.20</td>\n",
       "      <td>...</td>\n",
       "      <td>0.000000</td>\n",
       "      <td>0.000000</td>\n",
       "      <td>0.000000</td>\n",
       "      <td>1.0000</td>\n",
       "      <td>5.019827</td>\n",
       "      <td>0.886711</td>\n",
       "      <td>0.580954</td>\n",
       "      <td>1</td>\n",
       "      <td>0.224857</td>\n",
       "      <td>2.232382</td>\n",
       "    </tr>\n",
       "    <tr>\n",
       "      <th>1055000</th>\n",
       "      <td>2.279897</td>\n",
       "      <td>0.652484</td>\n",
       "      <td>1.349312</td>\n",
       "      <td>0.438132</td>\n",
       "      <td>1.366587</td>\n",
       "      <td>0.185465</td>\n",
       "      <td>8.441584</td>\n",
       "      <td>16.25</td>\n",
       "      <td>2.056962</td>\n",
       "      <td>83.60</td>\n",
       "      <td>...</td>\n",
       "      <td>0.000000</td>\n",
       "      <td>0.000000</td>\n",
       "      <td>0.778016</td>\n",
       "      <td>0.9916</td>\n",
       "      <td>5.030033</td>\n",
       "      <td>0.886163</td>\n",
       "      <td>0.524249</td>\n",
       "      <td>1</td>\n",
       "      <td>0.221455</td>\n",
       "      <td>2.209700</td>\n",
       "    </tr>\n",
       "    <tr>\n",
       "      <th>1057000</th>\n",
       "      <td>1.823551</td>\n",
       "      <td>0.510727</td>\n",
       "      <td>1.533232</td>\n",
       "      <td>0.474677</td>\n",
       "      <td>1.280681</td>\n",
       "      <td>0.078169</td>\n",
       "      <td>6.866097</td>\n",
       "      <td>13.85</td>\n",
       "      <td>2.429825</td>\n",
       "      <td>82.95</td>\n",
       "      <td>...</td>\n",
       "      <td>0.000000</td>\n",
       "      <td>0.000000</td>\n",
       "      <td>0.000000</td>\n",
       "      <td>0.9415</td>\n",
       "      <td>5.362949</td>\n",
       "      <td>0.905510</td>\n",
       "      <td>0.532781</td>\n",
       "      <td>2</td>\n",
       "      <td>0.209186</td>\n",
       "      <td>2.073141</td>\n",
       "    </tr>\n",
       "    <tr>\n",
       "      <th>1073000</th>\n",
       "      <td>1.703194</td>\n",
       "      <td>0.486207</td>\n",
       "      <td>1.780107</td>\n",
       "      <td>0.501892</td>\n",
       "      <td>2.278789</td>\n",
       "      <td>0.065815</td>\n",
       "      <td>5.784236</td>\n",
       "      <td>7.85</td>\n",
       "      <td>2.211268</td>\n",
       "      <td>96.00</td>\n",
       "      <td>...</td>\n",
       "      <td>0.000000</td>\n",
       "      <td>0.000000</td>\n",
       "      <td>4.244209</td>\n",
       "      <td>0.9008</td>\n",
       "      <td>4.943950</td>\n",
       "      <td>0.841421</td>\n",
       "      <td>0.592432</td>\n",
       "      <td>1</td>\n",
       "      <td>0.221470</td>\n",
       "      <td>2.033189</td>\n",
       "    </tr>\n",
       "  </tbody>\n",
       "</table>\n",
       "<p>10 rows × 50 columns</p>\n",
       "</div>"
      ],
      "text/plain": [
       "            q_mean  runoff_ratio  slope_fdc  baseflow_index  stream_elas  \\\n",
       "gauge_id                                                                   \n",
       "1013500   1.699155      0.543437   1.528219        0.585226     1.845324   \n",
       "1022500   2.173062      0.602269   1.776280        0.554478     1.702782   \n",
       "1030500   1.820108      0.555859   1.871110        0.508441     1.377505   \n",
       "1031500   2.030242      0.576289   1.494019        0.445091     1.648693   \n",
       "1047000   2.182870      0.656868   1.415939        0.473465     1.510238   \n",
       "1052500   2.405105      0.644652   1.301062        0.459700     1.025555   \n",
       "1054200   2.731742      0.671663   1.319645        0.437050     1.357808   \n",
       "1055000   2.279897      0.652484   1.349312        0.438132     1.366587   \n",
       "1057000   1.823551      0.510727   1.533232        0.474677     1.280681   \n",
       "1073000   1.703194      0.486207   1.780107        0.501892     2.278789   \n",
       "\n",
       "                q5        q95  high_q_freq  high_q_dur  low_q_freq  \\\n",
       "gauge_id                                                             \n",
       "1013500   0.241106   6.373021         6.10    8.714286       41.35   \n",
       "1022500   0.204734   7.123049         3.90    2.294118       65.15   \n",
       "1030500   0.107149   6.854887        12.25    7.205882       89.25   \n",
       "1031500   0.111345   8.010503        18.90    3.286957       94.80   \n",
       "1047000   0.196458   8.095148        14.95    2.577586       71.55   \n",
       "1052500   0.305965   8.669019        14.10    2.517857       58.90   \n",
       "1054200   0.256851  10.095605        16.05    1.888235       82.20   \n",
       "1055000   0.185465   8.441584        16.25    2.056962       83.60   \n",
       "1057000   0.078169   6.866097        13.85    2.429825       82.95   \n",
       "1073000   0.065815   5.784236         7.85    2.211268       96.00   \n",
       "\n",
       "              ...        water_frac  organic_frac  other_frac  frac_forest  \\\n",
       "gauge_id      ...                                                            \n",
       "1013500       ...          5.376698      0.408717    0.000000       0.9063   \n",
       "1022500       ...          1.226913      0.000000    0.358472       0.9232   \n",
       "1030500       ...          1.634345      1.330278    0.022016       0.8782   \n",
       "1031500       ...          0.674594      0.000000    0.000000       0.9548   \n",
       "1047000       ...          0.000000      0.000000    0.147867       0.9906   \n",
       "1052500       ...          0.000000      0.000000    5.675527       1.0000   \n",
       "1054200       ...          0.000000      0.000000    0.000000       1.0000   \n",
       "1055000       ...          0.000000      0.000000    0.778016       0.9916   \n",
       "1057000       ...          0.000000      0.000000    0.000000       0.9415   \n",
       "1073000       ...          0.000000      0.000000    4.244209       0.9008   \n",
       "\n",
       "           lai_max   gvf_max  dom_land_cover_frac  dom_land_cover  \\\n",
       "gauge_id                                                            \n",
       "1013500   4.167304  0.804567             0.883452               1   \n",
       "1022500   4.871392  0.863936             0.820493               1   \n",
       "1030500   4.685200  0.858502             0.975258               1   \n",
       "1031500   4.903259  0.870668             1.000000               1   \n",
       "1047000   5.086811  0.891383             0.850450               1   \n",
       "1052500   4.800830  0.880034             0.593588               1   \n",
       "1054200   5.019827  0.886711             0.580954               1   \n",
       "1055000   5.030033  0.886163             0.524249               1   \n",
       "1057000   5.362949  0.905510             0.532781               2   \n",
       "1073000   4.943950  0.841421             0.592432               1   \n",
       "\n",
       "          root_depth_50  root_depth_99  \n",
       "gauge_id                                \n",
       "1013500             NaN            NaN  \n",
       "1022500        0.237435       2.238444  \n",
       "1030500             NaN            NaN  \n",
       "1031500        0.250000       2.400000  \n",
       "1047000        0.241027       2.340180  \n",
       "1052500        0.225615       2.237435  \n",
       "1054200        0.224857       2.232382  \n",
       "1055000        0.221455       2.209700  \n",
       "1057000        0.209186       2.073141  \n",
       "1073000        0.221470       2.033189  \n",
       "\n",
       "[10 rows x 50 columns]"
      ]
     },
     "execution_count": 5,
     "metadata": {},
     "output_type": "execute_result"
    }
   ],
   "source": [
    "pd_data.head(10)"
   ]
  },
  {
   "cell_type": "code",
   "execution_count": 6,
   "metadata": {},
   "outputs": [
    {
     "name": "stdout",
     "output_type": "stream",
     "text": [
      "[[ 1.699155  0.543437  1.528219 ...  1.             nan       nan]\n",
      " [ 2.173062  0.602269  1.77628  ...  1.        0.237435  2.238444]\n",
      " [ 1.820108  0.555859  1.87111  ...  1.             nan       nan]\n",
      " ...\n",
      " [ 4.072283  0.646657  2.246135 ... 11.        0.170186  1.801394]\n",
      " [ 0.332015  0.119358  1.18604  ... 11.        0.17      1.8     ]\n",
      " [ 7.568103  1.362132  2.017435 ... 11.        0.17      1.8     ]]\n"
     ]
    }
   ],
   "source": [
    "print(np_data)"
   ]
  },
  {
   "cell_type": "code",
   "execution_count": 7,
   "metadata": {},
   "outputs": [],
   "source": [
    "# Remove any rows with nan\n",
    "pd_data = pd_data.dropna()"
   ]
  },
  {
   "cell_type": "code",
   "execution_count": 8,
   "metadata": {},
   "outputs": [],
   "source": [
    "# data dimensions\n",
    "[N,D] = pd_data.shape"
   ]
  },
  {
   "cell_type": "code",
   "execution_count": 9,
   "metadata": {},
   "outputs": [
    {
     "name": "stdout",
     "output_type": "stream",
     "text": [
      "['geol_1st_class' 'glim_1st_class_frac' 'carbonate_rocks_frac'\n",
      " 'geol_porostiy' 'geol_permeability' 'p_mean' 'pet_mean' 'p_seasonality'\n",
      " 'frac_snow' 'aridity' 'high_prec_freq' 'high_prec_dur' 'high_prec_timing'\n",
      " 'low_prec_freq' 'low_prec_dur' 'low_prec_timing' 'gauge_lat' 'gauge_lon'\n",
      " 'elev_mean' 'area_gages2' 'area_geospa_fabric' 'soil_depth_pelletier'\n",
      " 'soil_depth_statsgo' 'max_water_content' 'sand_frac' 'silt_frac'\n",
      " 'clay_frac' 'water_frac' 'organic_frac' 'other_frac' 'frac_forest'\n",
      " 'lai_max' 'gvf_max' 'dom_land_cover_frac' 'dom_land_cover'\n",
      " 'root_depth_50' 'root_depth_99']\n"
     ]
    }
   ],
   "source": [
    "# separate attributes from signatures\n",
    "pd_signatures = pd_data[pd_data.columns[0:12]]\n",
    "pd_attributes = pd_data[pd_data.columns[13:50]]\n",
    "pd_sig_names = pd_signatures.columns.values\n",
    "pd_att_names = pd_attributes.columns.values\n",
    "print(pd_att_names)"
   ]
  },
  {
   "cell_type": "code",
   "execution_count": 10,
   "metadata": {},
   "outputs": [
    {
     "name": "stdout",
     "output_type": "stream",
     "text": [
      "['q_mean' 'runoff_ratio' 'slope_fdc' 'baseflow_index' 'stream_elas' 'q5'\n",
      " 'q95' 'high_q_freq' 'high_q_dur' 'low_q_freq' 'low_q_dur' 'zero_q_freq']\n"
     ]
    }
   ],
   "source": [
    "print(pd_sig_names)"
   ]
  },
  {
   "cell_type": "code",
   "execution_count": 11,
   "metadata": {},
   "outputs": [],
   "source": [
    "# extract data from tables\n",
    "np_data = np.array(pd_data)\n",
    "# Isolate attributes and signatures\n",
    "np_attributes = np.array(pd_attributes)\n",
    "np_signatures = np.array(pd_signatures)\n",
    "# Save dimension of attributes and signatures\n",
    "[Natt, Datt] = np_attributes.shape\n",
    "[Nsig, Dsig] = np_signatures.shape"
   ]
  },
  {
   "cell_type": "code",
   "execution_count": 12,
   "metadata": {},
   "outputs": [
    {
     "data": {
      "text/plain": [
       "tuple"
      ]
     },
     "execution_count": 12,
     "metadata": {},
     "output_type": "execute_result"
    }
   ],
   "source": [
    "type(np_signatures.shape)"
   ]
  },
  {
   "cell_type": "code",
   "execution_count": 13,
   "metadata": {},
   "outputs": [
    {
     "name": "stdout",
     "output_type": "stream",
     "text": [
      "           C                     A               S\n",
      "0   0.135579        geol_1st_class          q_mean\n",
      "1   0.203919        geol_1st_class    runoff_ratio\n",
      "2   0.201822        geol_1st_class       slope_fdc\n",
      "3   0.038372        geol_1st_class  baseflow_index\n",
      "4   0.124543        geol_1st_class     stream_elas\n",
      "5   0.016879        geol_1st_class              q5\n",
      "6   0.147823        geol_1st_class             q95\n",
      "7   0.061223        geol_1st_class     high_q_freq\n",
      "8   0.102845        geol_1st_class      high_q_dur\n",
      "9   0.049864        geol_1st_class      low_q_freq\n",
      "10  0.058939        geol_1st_class       low_q_dur\n",
      "11  0.002871        geol_1st_class     zero_q_freq\n",
      "12  0.005035   glim_1st_class_frac          q_mean\n",
      "13  0.047780   glim_1st_class_frac    runoff_ratio\n",
      "14  0.107753   glim_1st_class_frac       slope_fdc\n",
      "15  0.125819   glim_1st_class_frac  baseflow_index\n",
      "16  0.042066   glim_1st_class_frac     stream_elas\n",
      "17  0.082463   glim_1st_class_frac              q5\n",
      "18  0.011931   glim_1st_class_frac             q95\n",
      "19  0.006334   glim_1st_class_frac     high_q_freq\n",
      "20  0.091080   glim_1st_class_frac      high_q_dur\n",
      "21  0.084181   glim_1st_class_frac      low_q_freq\n",
      "22  0.026974   glim_1st_class_frac       low_q_dur\n",
      "23  0.018872   glim_1st_class_frac     zero_q_freq\n",
      "24  0.170898  carbonate_rocks_frac          q_mean\n",
      "25  0.154808  carbonate_rocks_frac    runoff_ratio\n",
      "26  0.112799  carbonate_rocks_frac       slope_fdc\n",
      "27  0.042839  carbonate_rocks_frac  baseflow_index\n",
      "28  0.086482  carbonate_rocks_frac     stream_elas\n",
      "29  0.103018  carbonate_rocks_frac              q5\n",
      "correlation value, catchment attribute, hydrologic signature\n",
      "            C              A             S\n",
      "60   0.886893         p_mean        q_mean\n",
      "66   0.844952         p_mean           q95\n",
      "157  0.737913  low_prec_freq  runoff_ratio\n"
     ]
    }
   ],
   "source": [
    "# Homework Question: a)What are the three largest absolute-value correlations\n",
    "# between individual catchment attributes and hydrologic signatures? Do these \n",
    "# correlations seem reasonable?\n",
    "CorrCoef=[]\n",
    "Attribute=[]\n",
    "Signature=[]\n",
    "for A in range(0, Datt):\n",
    "    for S in range(0, Dsig):\n",
    "        Attribute.append(pd_att_names[A])\n",
    "        Signature.append(pd_sig_names[S])\n",
    "        CorrCoef.append(abs(np.corrcoef(np_attributes[:,A], np_signatures[:,S])[0,1]))\n",
    "CorrCoefs = pd.DataFrame(list(zip(CorrCoef, Attribute, Signature)), columns=['C','A','S'])\n",
    "print(CorrCoefs.head(30))\n",
    "CorrCoefs = CorrCoefs.sort_values(by=['C'], ascending=False)\n",
    "print('correlation value, catchment attribute, hydrologic signature')\n",
    "print(CorrCoefs.head(3))"
   ]
  },
  {
   "cell_type": "code",
   "execution_count": 14,
   "metadata": {},
   "outputs": [
    {
     "name": "stdout",
     "output_type": "stream",
     "text": [
      "Stats for q_mean\n",
      "Average = 1.45\n",
      "Standard deviation = 1.47\n",
      "Skewness = 2.47\n",
      "Kurtosis = 7.08\n",
      "\n",
      "\n",
      "Stats for p_mean\n",
      "Average = 3.24\n",
      "Standard deviation = 1.38\n",
      "Skewness = 1.14\n",
      "Kurtosis = 2.27\n",
      "\n",
      "\n",
      "Stats for runoff_ratio\n",
      "Average = 0.38\n",
      "Standard deviation = 0.23\n",
      "Skewness = 0.86\n",
      "Kurtosis = 1.06\n",
      "\n",
      "\n",
      "Stats for low_prec_freq\n",
      "Average = 255.44\n",
      "Standard deviation = 34.71\n",
      "Skewness = -0.16\n",
      "Kurtosis = -0.34\n",
      "\n",
      "\n",
      "Stats for q95\n",
      "Average = 4.92\n",
      "Standard deviation = 4.77\n",
      "Skewness = 2.28\n",
      "Kurtosis = 6.36\n",
      "\n",
      "\n"
     ]
    }
   ],
   "source": [
    "# Homework Question: b)  Calculate the mean, standard deviation,......\n",
    "#  skewness and kurtosis of all variables involved in these three corrs.\n",
    "#   Generating Statistics for all variables involved in these three \n",
    "#   correlations: \"p_mean\", \"q_mean\", \"low_prec_freq\",...\n",
    "#                 \"high_prec_freq\", \"runoff_ratio\"\n",
    "hiCorVars = ['q_mean','p_mean', 'runoff_ratio', 'low_prec_freq', 'q95']\n",
    "for var in hiCorVars:\n",
    "    m = np.average(np.array(pd_data[var]))\n",
    "    st = np.std(np.array(pd_data[var]))\n",
    "    sk = skew(np.array(pd_data[var]))\n",
    "    k = kurtosis(np.array(pd_data[var]))\n",
    "    print('Stats for ' + str(var))\n",
    "    print('Average = ' + str(round(m, 2)))\n",
    "    print('Standard deviation = ' + str(round(st, 2)))\n",
    "    print('Skewness = ' + str(round(sk, 2)))\n",
    "    print('Kurtosis = ' + str(round(k, 2)))\n",
    "    print('\\n')"
   ]
  },
  {
   "cell_type": "code",
   "execution_count": 15,
   "metadata": {},
   "outputs": [
    {
     "data": {
      "image/png": "[encoded data removed]",
      "text/plain": [
       "<Figure size 432x288 with 1 Axes>"
      ]
     },
     "metadata": {
      "needs_background": "light"
     },
     "output_type": "display_data"
    },
    {
     "data": {
      "image/png": "[encoded data removed]",
      "text/plain": [
       "<Figure size 432x288 with 1 Axes>"
      ]
     },
     "metadata": {
      "needs_background": "light"
     },
     "output_type": "display_data"
    },
    {
     "data": {
      "image/png": "[encoded data removed]",
      "text/plain": [
       "<Figure size 432x288 with 1 Axes>"
      ]
     },
     "metadata": {
      "needs_background": "light"
     },
     "output_type": "display_data"
    },
    {
     "data": {
      "image/png": "[encoded data removed]",
      "text/plain": [
       "<Figure size 432x288 with 1 Axes>"
      ]
     },
     "metadata": {
      "needs_background": "light"
     },
     "output_type": "display_data"
    },
    {
     "data": {
      "image/png": "[encoded data removed]",
      "text/plain": [
       "<Figure size 432x288 with 1 Axes>"
      ]
     },
     "metadata": {
      "needs_background": "light"
     },
     "output_type": "display_data"
    }
   ],
   "source": [
    "#Plot the histograms of all variables involved in these correlations.\n",
    "n_bins = 100\n",
    "# We can set the number of bins with the `bins` kwarg\n",
    "for var in hiCorVars:\n",
    "    fig, axs = plt.subplots()\n",
    "    axs.hist(pd_data[var], bins=n_bins)\n",
    "    axs.set_title(var)"
   ]
  },
  {
   "cell_type": "code",
   "execution_count": 16,
   "metadata": {},
   "outputs": [
    {
     "data": {
      "image/png": "[encoded data removed]",
      "text/plain": [
       "<Figure size 432x288 with 1 Axes>"
      ]
     },
     "metadata": {
      "needs_background": "light"
     },
     "output_type": "display_data"
    },
    {
     "data": {
      "image/png": "[encoded data removed]",
      "text/plain": [
       "<Figure size 432x288 with 1 Axes>"
      ]
     },
     "metadata": {
      "needs_background": "light"
     },
     "output_type": "display_data"
    },
    {
     "data": {
      "image/png": "[encoded data removed]",
      "text/plain": [
       "<Figure size 432x288 with 1 Axes>"
      ]
     },
     "metadata": {
      "needs_background": "light"
     },
     "output_type": "display_data"
    }
   ],
   "source": [
    "# Plot heat maps or contour plots of the joint distributions\n",
    "# in all three of these correlations.\n",
    "cp = [['p_mean', 'q_mean'],\n",
    "['p_mean', 'q95'],\n",
    "['low_prec_freq', 'runoff_ratio']]\n",
    "#   loop through and plot contour maps for each correlation pair\n",
    "for i in range(0,3):\n",
    "    x = pd_data[cp[i][0]]\n",
    "    y = pd_data[cp[i][1]]\n",
    "    fig, axs = plt.subplots()\n",
    "    axs.hist2d(x, y, bins=(50, 50), cmap=plt.cm.jet)\n",
    "    axs.set_title(cp[i][0] + ' joint probability with ' + cp[i][1])\n",
    "    axs.set_xlabel(cp[i][0])\n",
    "    axs.set_ylabel(cp[i][1])"
   ]
  },
  {
   "cell_type": "code",
   "execution_count": 17,
   "metadata": {},
   "outputs": [],
   "source": [
    "#Use random sampling to sample 50 catchments from the list\n",
    "#and calculate the sample mean and 90% confidence intervals\n",
    "# of the sample mean for the variable <runoff_ratio>. Plot\n",
    "# the distribution of the sample mean against the actual mean\n",
    "# from all 671 catchments.\n",
    "d = np.array(pd_data['q95'])\n",
    "# get the statistics for all the runoff ratios\n",
    "dStats = [np.average(d), np.std(d), skew(d), kurtosis(d), np.var(d)]"
   ]
  },
  {
   "cell_type": "code",
   "execution_count": 18,
   "metadata": {},
   "outputs": [],
   "source": [
    "K = 50\n",
    "# get 50 random index values\n",
    "iRandom = np.random.choice(Nsig,K)\n",
    "# grab the runoff ratio of the random index catchments\n",
    "dRan = d[iRandom]\n",
    "dRanStats = [np.average(dRan), np.std(dRan), skew(dRan), kurtosis(dRan), np.var(dRan)]"
   ]
  },
  {
   "cell_type": "code",
   "execution_count": 19,
   "metadata": {
    "scrolled": true
   },
   "outputs": [
    {
     "name": "stdout",
     "output_type": "stream",
     "text": [
      "Lower 90% CI 3.7139443967595067\n",
      "Sample mean 5.09002232\n",
      "Upper 90% CI 6.4661002432404935\n"
     ]
    }
   ],
   "source": [
    "confidence = 0.9\n",
    "n = len(dRan)\n",
    "se = stats.sem(dRan)\n",
    "m = np.mean(dRan)\n",
    "h = se * stats.t.ppf((1 + confidence) / 2., n-1)\n",
    "print('Lower 90% CI', m-h)\n",
    "print('Sample mean', m)\n",
    "print('Upper 90% CI', m+h)"
   ]
  },
  {
   "cell_type": "code",
   "execution_count": 20,
   "metadata": {},
   "outputs": [],
   "source": [
    "# Generate normal distribution based on the statistics\n",
    "x = np.linspace(dStats[0] - 4*dStats[1], dStats[0] + 4*dStats[1], 10000)\n",
    "x_ran = np.linspace(dRanStats[0] - 4*dRanStats[1], dRanStats[0] + 4*dRanStats[1], 10000)\n",
    "# Probability distribution function\n",
    "y = stats.norm.pdf(x, dStats[0], dStats[1])\n",
    "y_ran = stats.norm.pdf(x_ran, dRanStats[0], dRanStats[1])\n",
    "# Normalize the distribution function\n",
    "y_n = y/np.sum(y)/np.sqrt(643)\n",
    "y_nRan = y_ran/np.sum(y_ran)/np.sqrt(K)"
   ]
  },
  {
   "cell_type": "code",
   "execution_count": 21,
   "metadata": {},
   "outputs": [
    {
     "data": {
      "text/plain": [
       "<matplotlib.legend.Legend at 0x1a1d7b8c18>"
      ]
     },
     "execution_count": 21,
     "metadata": {},
     "output_type": "execute_result"
    },
    {
     "data": {
      "image/png": "[encoded data removed]",
      "text/plain": [
       "<Figure size 432x288 with 1 Axes>"
      ]
     },
     "metadata": {
      "needs_background": "light"
     },
     "output_type": "display_data"
    }
   ],
   "source": [
    "# Plot the distribution\n",
    "fig, axs = plt.subplots()\n",
    "axs.plot(x, y_n, c='blue', label=\"All catchments\")\n",
    "axs.plot(x_ran, y_nRan, c='green', label=\"sample\")\n",
    "axs.legend()"
   ]
  },
  {
   "cell_type": "code",
   "execution_count": 22,
   "metadata": {},
   "outputs": [],
   "source": [
    "# Use stratified sampling\n",
    "# Agaist geological class\n",
    "stratData = np.array(pd_data['geol_1st_class'])"
   ]
  },
  {
   "cell_type": "code",
   "execution_count": 23,
   "metadata": {},
   "outputs": [
    {
     "name": "stdout",
     "output_type": "stream",
     "text": [
      "{1, 2, 3, 4, 5, 7, 8, 9, 10, 11, 13, 14}\n"
     ]
    }
   ],
   "source": [
    "# Define unique values of strata\n",
    "uv = set(stratData)\n",
    "Nstrata = len(uv) # number of unique strata values\n",
    "print(uv)"
   ]
  },
  {
   "cell_type": "code",
   "execution_count": 24,
   "metadata": {},
   "outputs": [
    {
     "data": {
      "text/html": [
       "<div>\n",
       "<style scoped>\n",
       "    .dataframe tbody tr th:only-of-type {\n",
       "        vertical-align: middle;\n",
       "    }\n",
       "\n",
       "    .dataframe tbody tr th {\n",
       "        vertical-align: top;\n",
       "    }\n",
       "\n",
       "    .dataframe thead th {\n",
       "        text-align: right;\n",
       "    }\n",
       "</style>\n",
       "<table border=\"1\" class=\"dataframe\">\n",
       "  <thead>\n",
       "    <tr style=\"text-align: right;\">\n",
       "      <th></th>\n",
       "      <th>N</th>\n",
       "      <th>Std</th>\n",
       "      <th>Ave</th>\n",
       "    </tr>\n",
       "  </thead>\n",
       "  <tbody>\n",
       "    <tr>\n",
       "      <th>1</th>\n",
       "      <td>220.0</td>\n",
       "      <td>4.832061</td>\n",
       "      <td>5.367283</td>\n",
       "    </tr>\n",
       "    <tr>\n",
       "      <th>2</th>\n",
       "      <td>41.0</td>\n",
       "      <td>5.721028</td>\n",
       "      <td>6.934875</td>\n",
       "    </tr>\n",
       "    <tr>\n",
       "      <th>3</th>\n",
       "      <td>99.0</td>\n",
       "      <td>3.274246</td>\n",
       "      <td>4.842852</td>\n",
       "    </tr>\n",
       "    <tr>\n",
       "      <th>4</th>\n",
       "      <td>80.0</td>\n",
       "      <td>2.161259</td>\n",
       "      <td>3.082416</td>\n",
       "    </tr>\n",
       "    <tr>\n",
       "      <th>5</th>\n",
       "      <td>37.0</td>\n",
       "      <td>8.329144</td>\n",
       "      <td>12.080036</td>\n",
       "    </tr>\n",
       "    <tr>\n",
       "      <th>7</th>\n",
       "      <td>121.0</td>\n",
       "      <td>2.851318</td>\n",
       "      <td>3.147415</td>\n",
       "    </tr>\n",
       "    <tr>\n",
       "      <th>8</th>\n",
       "      <td>25.0</td>\n",
       "      <td>2.198420</td>\n",
       "      <td>2.992903</td>\n",
       "    </tr>\n",
       "    <tr>\n",
       "      <th>9</th>\n",
       "      <td>1.0</td>\n",
       "      <td>0.000000</td>\n",
       "      <td>9.953948</td>\n",
       "    </tr>\n",
       "    <tr>\n",
       "      <th>10</th>\n",
       "      <td>2.0</td>\n",
       "      <td>1.218359</td>\n",
       "      <td>7.875361</td>\n",
       "    </tr>\n",
       "    <tr>\n",
       "      <th>11</th>\n",
       "      <td>12.0</td>\n",
       "      <td>1.736120</td>\n",
       "      <td>2.297794</td>\n",
       "    </tr>\n",
       "    <tr>\n",
       "      <th>13</th>\n",
       "      <td>2.0</td>\n",
       "      <td>3.782222</td>\n",
       "      <td>5.324139</td>\n",
       "    </tr>\n",
       "    <tr>\n",
       "      <th>14</th>\n",
       "      <td>3.0</td>\n",
       "      <td>1.709120</td>\n",
       "      <td>2.535807</td>\n",
       "    </tr>\n",
       "  </tbody>\n",
       "</table>\n",
       "</div>"
      ],
      "text/plain": [
       "        N       Std        Ave\n",
       "1   220.0  4.832061   5.367283\n",
       "2    41.0  5.721028   6.934875\n",
       "3    99.0  3.274246   4.842852\n",
       "4    80.0  2.161259   3.082416\n",
       "5    37.0  8.329144  12.080036\n",
       "7   121.0  2.851318   3.147415\n",
       "8    25.0  2.198420   2.992903\n",
       "9     1.0  0.000000   9.953948\n",
       "10    2.0  1.218359   7.875361\n",
       "11   12.0  1.736120   2.297794\n",
       "13    2.0  3.782222   5.324139\n",
       "14    3.0  1.709120   2.535807"
      ]
     },
     "execution_count": 24,
     "metadata": {},
     "output_type": "execute_result"
    }
   ],
   "source": [
    "# Calculate statistics by strata\n",
    "pd_StratDat = pd.DataFrame(data=np.zeros([Nstrata, 3]), index=uv, columns=['N', 'Std', 'Ave'])\n",
    "iStrat = dict.fromkeys(uv)\n",
    "for i in uv:\n",
    "    # Number of values in each stratum\n",
    "    pd_StratDat['N'].loc[i] = list(stratData).count(i)\n",
    "    # index of the stratification values\n",
    "    iStrat[i] = [j for j in range(Natt) if stratData[j] == i]\n",
    "    # Standard deviation of each strata\n",
    "    pd_StratDat['Std'].loc[i] = np.std(d[iStrat[i]])\n",
    "    # Average of each strata\n",
    "    pd_StratDat['Ave'].loc[i] = np.average(d[iStrat[i]])\n",
    "pd_StratDat"
   ]
  },
  {
   "cell_type": "code",
   "execution_count": 25,
   "metadata": {},
   "outputs": [
    {
     "name": "stdout",
     "output_type": "stream",
     "text": [
      "4.774120262596036\n"
     ]
    }
   ],
   "source": [
    "print(np.std(d))"
   ]
  },
  {
   "cell_type": "code",
   "execution_count": 26,
   "metadata": {},
   "outputs": [],
   "source": [
    "# Calculate the sum of the product between the stratum N & std\n",
    "sumSknk = np.dot(np.array(pd_StratDat['N']), np.array(pd_StratDat['Std']))"
   ]
  },
  {
   "cell_type": "code",
   "execution_count": 27,
   "metadata": {
    "scrolled": true
   },
   "outputs": [
    {
     "name": "stderr",
     "output_type": "stream",
     "text": [
      "/anaconda3/lib/python3.7/site-packages/numpy/core/_methods.py:140: RuntimeWarning: Degrees of freedom <= 0 for slice\n",
      "  keepdims=keepdims)\n",
      "/anaconda3/lib/python3.7/site-packages/numpy/core/_methods.py:110: RuntimeWarning: invalid value encountered in true_divide\n",
      "  arrmean, rcount, out=arrmean, casting='unsafe', subok=False)\n",
      "/anaconda3/lib/python3.7/site-packages/numpy/core/_methods.py:132: RuntimeWarning: invalid value encountered in double_scalars\n",
      "  ret = ret.dtype.type(ret / rcount)\n",
      "/anaconda3/lib/python3.7/site-packages/numpy/lib/function_base.py:356: RuntimeWarning: Mean of empty slice.\n",
      "  avg = a.mean(axis)\n",
      "/anaconda3/lib/python3.7/site-packages/numpy/core/_methods.py:85: RuntimeWarning: invalid value encountered in double_scalars\n",
      "  ret = ret.dtype.type(ret / rcount)\n"
     ]
    },
    {
     "data": {
      "text/html": [
       "<div>\n",
       "<style scoped>\n",
       "    .dataframe tbody tr th:only-of-type {\n",
       "        vertical-align: middle;\n",
       "    }\n",
       "\n",
       "    .dataframe tbody tr th {\n",
       "        vertical-align: top;\n",
       "    }\n",
       "\n",
       "    .dataframe thead th {\n",
       "        text-align: right;\n",
       "    }\n",
       "</style>\n",
       "<table border=\"1\" class=\"dataframe\">\n",
       "  <thead>\n",
       "    <tr style=\"text-align: right;\">\n",
       "      <th></th>\n",
       "      <th>stratum</th>\n",
       "      <th>nOPT</th>\n",
       "      <th>stratSampleMean</th>\n",
       "      <th>Nkzhat</th>\n",
       "      <th>sk2</th>\n",
       "      <th>sh</th>\n",
       "    </tr>\n",
       "  </thead>\n",
       "  <tbody>\n",
       "    <tr>\n",
       "      <th>1</th>\n",
       "      <td>1.0</td>\n",
       "      <td>21.0</td>\n",
       "      <td>6.587295</td>\n",
       "      <td>1449.205005</td>\n",
       "      <td>47.597532</td>\n",
       "      <td>6.621371</td>\n",
       "    </tr>\n",
       "    <tr>\n",
       "      <th>2</th>\n",
       "      <td>2.0</td>\n",
       "      <td>5.0</td>\n",
       "      <td>3.188775</td>\n",
       "      <td>130.739759</td>\n",
       "      <td>22.807873</td>\n",
       "      <td>2.052567</td>\n",
       "    </tr>\n",
       "    <tr>\n",
       "      <th>3</th>\n",
       "      <td>3.0</td>\n",
       "      <td>6.0</td>\n",
       "      <td>5.325749</td>\n",
       "      <td>527.249184</td>\n",
       "      <td>4.111465</td>\n",
       "      <td>1.786905</td>\n",
       "    </tr>\n",
       "    <tr>\n",
       "      <th>4</th>\n",
       "      <td>4.0</td>\n",
       "      <td>0.0</td>\n",
       "      <td>NaN</td>\n",
       "      <td>NaN</td>\n",
       "      <td>-0.000000</td>\n",
       "      <td>NaN</td>\n",
       "    </tr>\n",
       "    <tr>\n",
       "      <th>5</th>\n",
       "      <td>5.0</td>\n",
       "      <td>6.0</td>\n",
       "      <td>11.241075</td>\n",
       "      <td>415.919775</td>\n",
       "      <td>69.649782</td>\n",
       "      <td>7.572161</td>\n",
       "    </tr>\n",
       "    <tr>\n",
       "      <th>7</th>\n",
       "      <td>7.0</td>\n",
       "      <td>7.0</td>\n",
       "      <td>3.475501</td>\n",
       "      <td>420.535638</td>\n",
       "      <td>5.592010</td>\n",
       "      <td>2.164604</td>\n",
       "    </tr>\n",
       "    <tr>\n",
       "      <th>8</th>\n",
       "      <td>8.0</td>\n",
       "      <td>0.0</td>\n",
       "      <td>NaN</td>\n",
       "      <td>NaN</td>\n",
       "      <td>-0.000000</td>\n",
       "      <td>NaN</td>\n",
       "    </tr>\n",
       "    <tr>\n",
       "      <th>9</th>\n",
       "      <td>9.0</td>\n",
       "      <td>0.0</td>\n",
       "      <td>NaN</td>\n",
       "      <td>NaN</td>\n",
       "      <td>-0.000000</td>\n",
       "      <td>NaN</td>\n",
       "    </tr>\n",
       "    <tr>\n",
       "      <th>10</th>\n",
       "      <td>10.0</td>\n",
       "      <td>0.0</td>\n",
       "      <td>NaN</td>\n",
       "      <td>NaN</td>\n",
       "      <td>-0.000000</td>\n",
       "      <td>NaN</td>\n",
       "    </tr>\n",
       "    <tr>\n",
       "      <th>11</th>\n",
       "      <td>11.0</td>\n",
       "      <td>0.0</td>\n",
       "      <td>NaN</td>\n",
       "      <td>NaN</td>\n",
       "      <td>-0.000000</td>\n",
       "      <td>NaN</td>\n",
       "    </tr>\n",
       "    <tr>\n",
       "      <th>13</th>\n",
       "      <td>13.0</td>\n",
       "      <td>0.0</td>\n",
       "      <td>NaN</td>\n",
       "      <td>NaN</td>\n",
       "      <td>-0.000000</td>\n",
       "      <td>NaN</td>\n",
       "    </tr>\n",
       "    <tr>\n",
       "      <th>14</th>\n",
       "      <td>14.0</td>\n",
       "      <td>0.0</td>\n",
       "      <td>NaN</td>\n",
       "      <td>NaN</td>\n",
       "      <td>-0.000000</td>\n",
       "      <td>NaN</td>\n",
       "    </tr>\n",
       "  </tbody>\n",
       "</table>\n",
       "</div>"
      ],
      "text/plain": [
       "    stratum  nOPT  stratSampleMean       Nkzhat        sk2        sh\n",
       "1       1.0  21.0         6.587295  1449.205005  47.597532  6.621371\n",
       "2       2.0   5.0         3.188775   130.739759  22.807873  2.052567\n",
       "3       3.0   6.0         5.325749   527.249184   4.111465  1.786905\n",
       "4       4.0   0.0              NaN          NaN  -0.000000       NaN\n",
       "5       5.0   6.0        11.241075   415.919775  69.649782  7.572161\n",
       "7       7.0   7.0         3.475501   420.535638   5.592010  2.164604\n",
       "8       8.0   0.0              NaN          NaN  -0.000000       NaN\n",
       "9       9.0   0.0              NaN          NaN  -0.000000       NaN\n",
       "10     10.0   0.0              NaN          NaN  -0.000000       NaN\n",
       "11     11.0   0.0              NaN          NaN  -0.000000       NaN\n",
       "13     13.0   0.0              NaN          NaN  -0.000000       NaN\n",
       "14     14.0   0.0              NaN          NaN  -0.000000       NaN"
      ]
     },
     "execution_count": 27,
     "metadata": {},
     "output_type": "execute_result"
    }
   ],
   "source": [
    "#  calulate strat-sampling statististics\n",
    "#  this loop generates a table of statistics for the strata\\\n",
    "c=['stratum', 'nOPT', 'stratSampleMean', 'Nkzhat', 'sk2', 'sh']\n",
    "pd_SampleStratDat = pd.DataFrame(data=np.zeros([Nstrata, 6]), index=uv, columns=c)\n",
    "for i in uv: \n",
    "    #  index of the stratification values\n",
    "    iStrat[i]\n",
    "    #  Choose optimal stratum sample\n",
    "    nOPT = int(round(K * (pd_StratDat['N'].loc[i] * pd_StratDat['Std'].loc[i]) / sumSknk))\n",
    "    # THRESHOLD for using a sample size\n",
    "    if nOPT < 4:\n",
    "        nOPT = 0\n",
    "    #  generating a random sample within the strata\n",
    "    iStratSample = np.random.choice(iStrat[i],nOPT)\n",
    "    \n",
    "    # {\\displaystyle s_{h}=} sample standard deviation of stratum {\\displaystyle h}h\n",
    "    sh_value = np.std(d[iStratSample])\n",
    "    \n",
    "    #  collect the values from our stratum sample\n",
    "    stratSample = d[iStratSample]\n",
    "    #   CALCULATE THE SAMPLE MEAN\n",
    "    stratSampleMean =  np.average(stratSample)\n",
    "    #   Calculate the sum-product of the sample mean & stratum size\n",
    "    Nkzhat = stratSampleMean * pd_StratDat['N'].loc[i]\n",
    "    # Calculate the within-stratum sample variance\n",
    "    sk2 = 1/(nOPT - 1) * np.sum(np.square(stratSample - pd_StratDat['Ave'].loc[i]))\n",
    "    # stratified sample statistics\n",
    "    pd_SampleStratDat.loc[i] = [i, nOPT, stratSampleMean, Nkzhat, sk2, sh_value]\n",
    "pd_SampleStratDat"
   ]
  },
  {
   "cell_type": "code",
   "execution_count": 28,
   "metadata": {},
   "outputs": [
    {
     "name": "stdout",
     "output_type": "stream",
     "text": [
      "[1, 2, 3, 5, 7]\n"
     ]
    }
   ],
   "source": [
    "# Index the good stratum values\n",
    "goodstrata=[]\n",
    "for i in uv:\n",
    "    if math.isnan(pd_SampleStratDat['Nkzhat'].loc[i]) is False:\n",
    "        goodstrata.append(i)\n",
    "print(goodstrata)"
   ]
  },
  {
   "cell_type": "code",
   "execution_count": 29,
   "metadata": {},
   "outputs": [
    {
     "name": "stdout",
     "output_type": "stream",
     "text": [
      "5.682720773451002\n"
     ]
    }
   ],
   "source": [
    "# Stratified sample mean\n",
    "sumSkzk = sum(pd_SampleStratDat['Nkzhat'].loc[goodstrata])\n",
    "Nstratstat = sum(pd_StratDat['N'].loc[goodstrata])\n",
    "stratMean = sumSkzk/Nstratstat\n",
    "print(stratMean)"
   ]
  },
  {
   "cell_type": "code",
   "execution_count": 30,
   "metadata": {},
   "outputs": [
    {
     "name": "stdout",
     "output_type": "stream",
     "text": [
      "0.08521398596831334\n"
     ]
    }
   ],
   "source": [
    "stratVar = 0\n",
    "for i in goodstrata:\n",
    "    sk2 = pd_SampleStratDat['sh'].loc[i]\n",
    "    nk = pd_SampleStratDat['nOPT'].loc[i]\n",
    "    Nk = pd_StratDat['N'].loc[i]\n",
    "    stratVar += (sk2/nk) * (Nk/Nstratstat)**2 * (1-nk/Nk)\n",
    "print(stratVar)\n",
    "stratStd = np.sqrt(stratVar)"
   ]
  },
  {
   "cell_type": "code",
   "execution_count": 31,
   "metadata": {},
   "outputs": [
    {
     "name": "stdout",
     "output_type": "stream",
     "text": [
      "7.747610304891719\n"
     ]
    }
   ],
   "source": [
    "# calcualte the relative precisions of strat sampling\n",
    "# Relative precision = S^2(z_hat) / (S_s)^2(z_hat)\n",
    "relativePrecision = (dRanStats[4]/K) / stratVar\n",
    "print(relativePrecision)"
   ]
  },
  {
   "cell_type": "code",
   "execution_count": 32,
   "metadata": {},
   "outputs": [
    {
     "name": "stdout",
     "output_type": "stream",
     "text": [
      "Lower 90% CI 5.661586043010649\n",
      "Sample mean 5.682720773451002\n",
      "Upper 90% CI 5.703855503891354\n"
     ]
    }
   ],
   "source": [
    "confidence = 0.9\n",
    "se = stratStd/np.sqrt(Nstratstat)\n",
    "h = se * stats.t.ppf((1 + confidence) / 2., Nstratstat-1)\n",
    "print('Lower 90% CI', stratMean-h)\n",
    "print('Sample mean', stratMean)\n",
    "print('Upper 90% CI', stratMean+h)"
   ]
  },
  {
   "cell_type": "code",
   "execution_count": 33,
   "metadata": {},
   "outputs": [
    {
     "data": {
      "text/plain": [
       "<matplotlib.legend.Legend at 0x1a1db71ef0>"
      ]
     },
     "execution_count": 33,
     "metadata": {},
     "output_type": "execute_result"
    },
    {
     "data": {
      "image/png": "[encoded data removed]",
      "text/plain": [
       "<Figure size 432x288 with 1 Axes>"
      ]
     },
     "metadata": {
      "needs_background": "light"
     },
     "output_type": "display_data"
    }
   ],
   "source": [
    "# Generate normal distribution based on the statistics\n",
    "x_strat = np.linspace(stratMean - 4*stratStd, stratMean + 4*stratStd, 100)\n",
    "y_strat = stats.norm.pdf(x_strat, stratMean, stratStd)\n",
    "y_nStrat = y_strat/np.sum(y_strat)\n",
    "# Plot the distribution\n",
    "fig, axs = plt.subplots()\n",
    "axs.plot(x, y_n, c='black', label=\"All\")\n",
    "axs.plot(x, y_nRan, c='blue', label=\"Random sample\")\n",
    "axs.plot(x_strat, y_nStrat, c='green', label=\"Stratified Sample\")\n",
    "axs.set_xlim([0.0, 1.0])\n",
    "axs.grid(color='grey', linestyle='-', linewidth=0.1)\n",
    "axs.legend(loc='best', frameon=False)"
   ]
  },
  {
   "cell_type": "code",
   "execution_count": 34,
   "metadata": {},
   "outputs": [
    {
     "data": {
      "text/plain": [
       "KstestResult(statistic=0.0027702230371571823, pvalue=0.42667505396453004)"
      ]
     },
     "execution_count": 34,
     "metadata": {},
     "output_type": "execute_result"
    }
   ],
   "source": [
    "# Use the Kolmogorov-Smirnov test to determine whether the <runoff_ratio> variable is normally distributed. \n",
    "# Plot the empirical and theoretical CDFs.\n",
    "# Make synthetic data to compare\n",
    "\n",
    "# Test the function on a synthetic data set\n",
    "data_normal = stats.norm.rvs(size=100000,loc=0,scale=1)\n",
    "stats.kstest(data_normal, 'norm')"
   ]
  },
  {
   "cell_type": "code",
   "execution_count": 35,
   "metadata": {},
   "outputs": [
    {
     "data": {
      "text/plain": [
       "KstestResult(statistic=0.7424965422110376, pvalue=0.0)"
      ]
     },
     "execution_count": 35,
     "metadata": {},
     "output_type": "execute_result"
    }
   ],
   "source": [
    "# Now try the runoff ratio\n",
    "stats.kstest(d, 'norm')"
   ]
  },
  {
   "cell_type": "code",
   "execution_count": 36,
   "metadata": {},
   "outputs": [
    {
     "data": {
      "text/plain": [
       "<matplotlib.legend.Legend at 0x1a1d9ef400>"
      ]
     },
     "execution_count": 36,
     "metadata": {},
     "output_type": "execute_result"
    },
    {
     "data": {
      "image/png": "[encoded data removed]",
      "text/plain": [
       "<Figure size 432x288 with 1 Axes>"
      ]
     },
     "metadata": {
      "needs_background": "light"
     },
     "output_type": "display_data"
    }
   ],
   "source": [
    "v0, b0 = np.histogram(np.random.normal(dStats[0], dStats[1],100000), bins=10000)\n",
    "v1, b1 = np.histogram(d, bins=200)\n",
    "v2, b2 = np.histogram(dRan, bins=20)\n",
    "v0 = v0/np.max(v0)\n",
    "v1 = v1/np.max(v1)\n",
    "v2 = v2/np.max(v2)\n",
    "c0 = np.cumsum(v0)\n",
    "c1 = np.cumsum(v1)\n",
    "c2 = np.cumsum(v2)\n",
    "\n",
    "# plot the cumulative function\n",
    "fig, axs = plt.subplots()\n",
    "axs.plot(b0[:-1], c0/np.max(c0), c='k', label=\"Synthetic data\")\n",
    "axs.plot(b1[:-1], c1/c1[-1], c='blue', label=\"All catchments\")\n",
    "axs.plot(b2[:-1], c2/c2[-1], c='green', label=\"Randomly sampled catchments\")\n",
    "axs.grid(color='grey', linestyle='-', linewidth=0.1)\n",
    "axs.legend()"
   ]
  },
  {
   "cell_type": "code",
   "execution_count": 37,
   "metadata": {},
   "outputs": [
    {
     "data": {
      "text/plain": [
       "KstestResult(statistic=0.5686971146332456, pvalue=0.0)"
      ]
     },
     "execution_count": 37,
     "metadata": {},
     "output_type": "execute_result"
    }
   ],
   "source": [
    "#Use the Kolmogorov-Smirnov test to determine whether the Box-Cox transformed <runoff_ratio> \n",
    "# variable is normally distributed. Plot the empirical and theoretical CDFs.\n",
    "d_bc, _ = stats.boxcox(d - (np.min(d)-0.01))\n",
    "stats.kstest(d_bc, 'norm')"
   ]
  },
  {
   "cell_type": "code",
   "execution_count": 38,
   "metadata": {},
   "outputs": [
    {
     "data": {
      "text/plain": [
       "<matplotlib.legend.Legend at 0x1a1f4a33c8>"
      ]
     },
     "execution_count": 38,
     "metadata": {},
     "output_type": "execute_result"
    },
    {
     "data": {
      "image/png": "[encoded data removed]",
      "text/plain": [
       "<Figure size 432x288 with 1 Axes>"
      ]
     },
     "metadata": {
      "needs_background": "light"
     },
     "output_type": "display_data"
    }
   ],
   "source": [
    "v1, b1 = np.histogram((d_bc - np.mean(d_bc))/np.std(d_bc), bins=200)\n",
    "v1 = v1/np.max(v0)\n",
    "v2 = v2/np.max(v0)\n",
    "c1 = np.cumsum(v1)\n",
    "\n",
    "# plot the cumulative function\n",
    "fig, axs = plt.subplots()\n",
    "axs.plot(b0[1:], c0/c0[-1], c='k', label=\"Synthetic data\")\n",
    "axs.plot(b1[1:], c1/c1[-1], c='blue', label=\"Box-Cox Transformed data\")\n",
    "axs.grid(color='grey', linestyle='-', linewidth=0.1)\n",
    "axs.legend()"
   ]
  },
  {
   "cell_type": "code",
   "execution_count": 39,
   "metadata": {},
   "outputs": [
    {
     "name": "stdout",
     "output_type": "stream",
     "text": [
      "Forest Stratification hypothesis is   not rejected , p value =  1.816760916360256e-33 \n",
      "\n"
     ]
    }
   ],
   "source": [
    "# test whether evergreen forests have different runoff ratios...\n",
    "#than other land cover types\n",
    "#FROM HOMEWORK: a)  Is there a statistically significant difference...\n",
    "#   between runoff ratios at forested sites vs. sites with other...\n",
    "vegClass = list(pd_data['dom_land_cover'])\n",
    "#   land cover types? Why do you think this might be?\n",
    "#FOREST CLASSES = 1, 2, 11 & 12\n",
    "iForest = []\n",
    "iNotForest = []\n",
    "for i in range(0,Natt):\n",
    "    if vegClass[i] in [1,2,11,12]:\n",
    "        iForest.append(i)\n",
    "    else:\n",
    "        iNotForest.append(i)\n",
    "\n",
    "rrForest = d[iForest]\n",
    "rrNotForest = d[iNotForest]\n",
    "# test whether the collecation of all forest-type land covers have a\n",
    "# different mean\n",
    "\n",
    "[h_Forest,p_Forest] = stats.ttest_ind(rrForest,rrNotForest)\n",
    "#[h_Forest,p_Forest] = stats.f_oneway(rrForest,rrNotForest)\n",
    "\n",
    "if h_Forest == 1:\n",
    "    hyp_For = ' rejected'\n",
    "else:\n",
    "    hyp_For = ' not rejected'\n",
    "\n",
    "print('Forest Stratification hypothesis is ', hyp_For, ', p value = ', str(p_Forest),'\\n')"
   ]
  },
  {
   "cell_type": "code",
   "execution_count": 40,
   "metadata": {},
   "outputs": [
    {
     "name": "stdout",
     "output_type": "stream",
     "text": [
      "Geological stratification hypothesis is   not rejected , p value =  1.5267037190082835e-08 \n",
      "\n",
      "Unconsolidated sedimentary hypothesis is   not rejected , p value =  0.000532403712049525 \n",
      "\n"
     ]
    }
   ],
   "source": [
    "# test whether all sedimentary geo types have a different mean\n",
    "# FROM HOMEWORK: b)  Is there a statistically significant difference...\n",
    "#   between runoff ratios at sites where the primary geological class...\n",
    "#   is sedimentary vs. other classes? What about sites with...\n",
    "#   unconsolidated sediments? Why do you think this might be?\n",
    "# SEDIMENTARY CLASSES = 1, 4, 6, 7 & 8\n",
    "geoClass = list(pd_data['geol_1st_class'])\n",
    "iSed = []\n",
    "iNotSed = []\n",
    "iSed_u = []\n",
    "iNotSed_u = []\n",
    "for i in range(0,Natt):\n",
    "    if geoClass[i] in [1,4,6,7,8]:\n",
    "        iSed.append(i)\n",
    "        # Unconsolidated sedimentary only (Geological class = 7)\n",
    "        if geoClass[i] == 7:\n",
    "            iSed_u.append(i)\n",
    "        else:\n",
    "            iNotSed_u.append(i)\n",
    "    else:\n",
    "        iNotSed.append(i)\n",
    "        \n",
    "rrSed = d[iSed]\n",
    "rrNotSed = d[iNotSed]\n",
    "[h_Sed,p_Sed] = stats.ttest_ind(rrSed,rrNotSed)\n",
    "if h_Sed == 1:\n",
    "    hyp_Sed = ' rejected'\n",
    "else:\n",
    "    hyp_Sed = ' not rejected'\n",
    "\n",
    "print('Geological stratification hypothesis is ',hyp_Sed, ', p value = ',str(p_Sed),'\\n')\n",
    "\n",
    "\n",
    "#   Unconsolidated sedimentary only (Geological class = 7)\n",
    "rrSed_u = d[iSed_u]\n",
    "rrNotSed_u = d[iNotSed_u]\n",
    "[h_Sed_u,p_Sed_u] = stats.ttest_ind(rrSed_u,rrNotSed_u)\n",
    "if h_Sed_u == 1:\n",
    "    hyp_Sed_u = ' rejected'\n",
    "else:\n",
    "    hyp_Sed_u = ' not rejected'\n",
    "\n",
    "print('Unconsolidated sedimentary hypothesis is ',hyp_Sed_u,', p value = ',str(p_Sed_u),'\\n')"
   ]
  }
 ],
 "metadata": {
  "kernelspec": {
   "display_name": "Python 3",
   "language": "python",
   "name": "python3"
  },
  "language_info": {
   "codemirror_mode": {
    "name": "ipython",
    "version": 3
   },
   "file_extension": ".py",
   "mimetype": "text/x-python",
   "name": "python",
   "nbconvert_exporter": "python",
   "pygments_lexer": "ipython3",
   "version": "3.7.2"
  }
 },
 "nbformat": 4,
 "nbformat_minor": 2
}
