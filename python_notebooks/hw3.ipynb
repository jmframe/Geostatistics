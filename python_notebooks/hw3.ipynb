{
 "cells": [
  {
   "cell_type": "markdown",
   "metadata": {},
   "source": [
    "# Homework #3 (Fall 2019, UA Geology, Geostatistics)\n",
    "# Written by Jonathan Frame for the coding academy workshop."
   ]
  },
  {
   "cell_type": "code",
   "execution_count": 1,
   "metadata": {},
   "outputs": [],
   "source": [
    "# Import libraries\n",
    "import numpy as np\n",
    "import pandas as pd\n",
    "import matplotlib.pyplot as plt\n",
    "from sklearn.model_selection import KFold\n",
    "from sklearn.gaussian_process import GaussianProcessRegressor\n",
    "from sklearn.gaussian_process.kernels import RBF, ConstantKernel as C\n",
    "\n",
    "from pylab import cm\n",
    "from matplotlib import colors as mcol\n",
    "\n",
    "from netCDF4 import Dataset as NetCDFFile\n",
    "#from mpl_toolkits.basemap import Basemap"
   ]
  },
  {
   "cell_type": "markdown",
   "metadata": {},
   "source": [
    "### locate the data"
   ]
  },
  {
   "cell_type": "code",
   "execution_count": 2,
   "metadata": {},
   "outputs": [],
   "source": [
    "dataDir = '../data/'\n",
    "dataName = 'camels_all_coding_workshop.csv'\n",
    "dataLoc = dataDir + dataName"
   ]
  },
  {
   "cell_type": "markdown",
   "metadata": {},
   "source": [
    "### load the data with pandas"
   ]
  },
  {
   "cell_type": "code",
   "execution_count": 3,
   "metadata": {},
   "outputs": [],
   "source": [
    "pd_data = pd.read_csv(dataLoc, sep=',', index_col='gauge_id')"
   ]
  },
  {
   "cell_type": "markdown",
   "metadata": {},
   "source": [
    "### Remove any rows with nan"
   ]
  },
  {
   "cell_type": "code",
   "execution_count": 4,
   "metadata": {},
   "outputs": [],
   "source": [
    "pd_data = pd_data.dropna()"
   ]
  },
  {
   "cell_type": "code",
   "execution_count": 5,
   "metadata": {},
   "outputs": [
    {
     "data": {
      "text/plain": [
       "array(['q_mean', 'runoff_ratio', 'slope_fdc', 'baseflow_index',\n",
       "       'stream_elas', 'q5', 'q95', 'high_q_freq', 'high_q_dur',\n",
       "       'low_q_freq', 'low_q_dur', 'zero_q_freq', 'hfd_mean',\n",
       "       'geol_1st_class', 'glim_1st_class_frac', 'carbonate_rocks_frac',\n",
       "       'geol_porostiy', 'geol_permeability', 'p_mean', 'pet_mean',\n",
       "       'p_seasonality', 'frac_snow', 'aridity', 'high_prec_freq',\n",
       "       'high_prec_dur', 'high_prec_timing', 'low_prec_freq',\n",
       "       'low_prec_dur', 'low_prec_timing', 'gauge_lat', 'gauge_lon',\n",
       "       'elev_mean', 'area_gages2', 'area_geospa_fabric',\n",
       "       'soil_depth_pelletier', 'soil_depth_statsgo', 'max_water_content',\n",
       "       'sand_frac', 'silt_frac', 'clay_frac', 'water_frac',\n",
       "       'organic_frac', 'other_frac', 'frac_forest', 'lai_max', 'gvf_max',\n",
       "       'dom_land_cover_frac', 'dom_land_cover', 'root_depth_50',\n",
       "       'root_depth_99'], dtype=object)"
      ]
     },
     "execution_count": 5,
     "metadata": {},
     "output_type": "execute_result"
    }
   ],
   "source": [
    "pd_data.columns.values"
   ]
  },
  {
   "cell_type": "code",
   "execution_count": 6,
   "metadata": {},
   "outputs": [],
   "source": [
    "X=np.array(pd_data.loc[:,['gauge_lat','gauge_lon']])\n",
    "y=np.array(pd_data['q_mean'])"
   ]
  },
  {
   "cell_type": "markdown",
   "metadata": {},
   "source": [
    "## SET UP K-FOLD"
   ]
  },
  {
   "cell_type": "markdown",
   "metadata": {},
   "source": [
    "### Split into training groups"
   ]
  },
  {
   "cell_type": "code",
   "execution_count": 7,
   "metadata": {},
   "outputs": [
    {
     "data": {
      "text/plain": [
       "10"
      ]
     },
     "execution_count": 7,
     "metadata": {},
     "output_type": "execute_result"
    }
   ],
   "source": [
    "kf = KFold(n_splits=10, shuffle=True)\n",
    "kf.get_n_splits(X)"
   ]
  },
  {
   "cell_type": "markdown",
   "metadata": {},
   "source": [
    "## GPR (Kriging) in a K-fold loop"
   ]
  },
  {
   "cell_type": "code",
   "execution_count": 8,
   "metadata": {},
   "outputs": [
    {
     "name": "stdout",
     "output_type": "stream",
     "text": [
      "0.5638349488995084\n",
      "0.6088620607341236\n",
      "0.8385303610745374\n",
      "0.88306539839934\n",
      "0.6757578387005165\n",
      "0.6367017719878606\n",
      "0.783283744333072\n",
      "0.6148313841002907\n",
      "0.536914923594084\n",
      "0.5696983563104554\n"
     ]
    },
    {
     "data": {
      "image/png": "[encoded data removed]",
      "text/plain": [
       "<Figure size 432x288 with 1 Axes>"
      ]
     },
     "metadata": {
      "needs_background": "light"
     },
     "output_type": "display_data"
    }
   ],
   "source": [
    "for train_index, test_index in kf.split(X):\n",
    "    X_train, X_test = X[train_index], X[test_index]\n",
    "    y_train, y_test = y[train_index], y[test_index]\n",
    "\n",
    "    kernel = C(1.0, (1e-3, 1e3)) * RBF(10, (1e-2, 1e2))\n",
    "    gpr = GaussianProcessRegressor(kernel=kernel, \\\n",
    "                                   n_restarts_optimizer=15, \\\n",
    "                                   alpha=0.1, normalize_y=True)\n",
    "    gpr.fit(X_train, y_train)\n",
    "    \n",
    "    y_hat = gpr.predict(X_test, return_std=False) \n",
    "    rmse = np.sqrt(np.mean((y_test - y_hat)**2))\n",
    "\n",
    "    plt.scatter(y_hat,y_test)\n",
    "    print(rmse)"
   ]
  },
  {
   "cell_type": "markdown",
   "metadata": {},
   "source": [
    "## Train the model on all the data for plotting."
   ]
  },
  {
   "cell_type": "code",
   "execution_count": 9,
   "metadata": {},
   "outputs": [
    {
     "data": {
      "text/plain": [
       "GaussianProcessRegressor(alpha=0.3, copy_X_train=True,\n",
       "                         kernel=1**2 * RBF(length_scale=10),\n",
       "                         n_restarts_optimizer=15, normalize_y=True,\n",
       "                         optimizer='fmin_l_bfgs_b', random_state=None)"
      ]
     },
     "execution_count": 9,
     "metadata": {},
     "output_type": "execute_result"
    }
   ],
   "source": [
    "X_krig=np.array(pd_data.loc[:,['gauge_lat','gauge_lon']])\n",
    "gpr = GaussianProcessRegressor(kernel=kernel, n_restarts_optimizer=15, \\\n",
    "                               alpha=0.3, normalize_y=True)\n",
    "gpr.fit(X_krig, y)"
   ]
  },
  {
   "cell_type": "markdown",
   "metadata": {},
   "source": [
    "## Now plot the data to make a nice looking map"
   ]
  },
  {
   "cell_type": "code",
   "execution_count": 14,
   "metadata": {},
   "outputs": [
    {
     "name": "stdout",
     "output_type": "stream",
     "text": [
      "(224, 464)\n"
     ]
    }
   ],
   "source": [
    "maskName = 'NLDAS_IGBPpredomveg.asc'\n",
    "maskLoc = dataDir + maskName\n",
    "km2 = np.genfromtxt(maskLoc)[:,4]\n",
    "waterMask = np.genfromtxt(maskLoc)[:,21]\n",
    "for i in range(km2.shape[0]):\n",
    "    if waterMask[i] > km2[i]/2:\n",
    "        waterMask[i] = 'NaN'\n",
    "    elif waterMask[i] <= km2[i]/2:\n",
    "        waterMask[i] = 1\n",
    "waterMask = np.reshape(waterMask,[224,464], order='A') #options are CFA\n",
    "print(waterMask.shape)"
   ]
  },
  {
   "cell_type": "code",
   "execution_count": 15,
   "metadata": {},
   "outputs": [],
   "source": [
    "# grid corners\n",
    "Nlat =  52.9375\n",
    "Elon = -67.0625\n",
    "Slat =  25.0625\n",
    "Wlon = -124.9375\n",
    "# grid spacing\n",
    "delta = 0.125\n",
    "nlons = int((Elon-Wlon)/delta)\n",
    "nlats = int((Nlat-Slat)/delta)\n",
    "lats = np.linspace(Slat,Nlat,nlats, endpoint=False)\n",
    "lons = np.linspace(Wlon,Elon,nlons, endpoint=False)\n",
    "z = np.zeros([nlats,nlons])\n",
    "xv, yv = np.meshgrid(lons, lats)\n",
    "for lon in range(nlons):\n",
    "    for lat in range(nlats):\n",
    "        if waterMask[lat,lon] == 1:\n",
    "            z[lat,lon] = gpr.predict([[lats[lat],lons[lon]]], return_std=False)\n",
    "        else:\n",
    "            z[lat,lon] = 'NaN'"
   ]
  },
  {
   "cell_type": "code",
   "execution_count": 16,
   "metadata": {},
   "outputs": [
    {
     "data": {
      "image/png": "[encoded data removed]",
      "text/plain": [
       "<Figure size 432x288 with 2 Axes>"
      ]
     },
     "metadata": {
      "needs_background": "light"
     },
     "output_type": "display_data"
    }
   ],
   "source": [
    "fig, ax1 = plt.subplots()\n",
    "colorbins = np.linspace(0,11,num=25)\n",
    "norm=mcol.PowerNorm(gamma=0.5)\n",
    "colorscale = ax1.contourf(xv, yv, z, colorbins, norm=norm, cmap=plt.cm.gist_ncar)\n",
    "cbar = fig.colorbar(colorscale)\n",
    "plt.scatter(pd_data['gauge_lon'],pd_data['gauge_lat'], \\\n",
    "            s=1, facecolors='none', alpha=0.4,edgecolors='black', label='stream gauge')\n",
    "plt.xlabel('longitude')\n",
    "plt.ylabel('latitude')\n",
    "plt.legend()\n",
    "plt.title('surface runoff (mm/km^2)')\n",
    "plt.show()"
   ]
  },
  {
   "cell_type": "code",
   "execution_count": null,
   "metadata": {},
   "outputs": [],
   "source": []
  }
 ],
 "metadata": {
  "kernelspec": {
   "display_name": "Python 3",
   "language": "python",
   "name": "python3"
  },
  "language_info": {
   "codemirror_mode": {
    "name": "ipython",
    "version": 3
   },
   "file_extension": ".py",
   "mimetype": "text/x-python",
   "name": "python",
   "nbconvert_exporter": "python",
   "pygments_lexer": "ipython3",
   "version": "3.7.6"
  }
 },
 "nbformat": 4,
 "nbformat_minor": 2
}
